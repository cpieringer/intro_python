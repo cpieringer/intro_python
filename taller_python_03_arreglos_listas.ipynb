{
 "cells": [
  {
   "cell_type": "markdown",
   "metadata": {},
   "source": [
    "# Arreglos\n",
    "\n",
    "Los arreglos son estructuras de datos secuenciales definidas para datos de un mismo tipo y son de largo fijo. Esta abstracción es similar a lo que en matemáticas serían los vectores y matrices. En Python, el manejo de arreglos no se da de forma nativa. Desdel el punto de vista algorítmico los arreglos podrían ser representados, respetando los supuestos, mediante **listas**. Sin embargo, en términos de eficiancia de computo y memoria no es la mejor forma. Python cuenta con una librería destinada al manejo de arreglos numéricos de forma eficiente. A pesar de esta observación, en esta sección del taller veremos como manejar arreglos conceptualmente utilizando listas simples y anidadas.\n",
    "\n",
    "\n",
    "## Arreglos Unidimensionales\n",
    "\n",
    "El arreglo más simple es un vector que puede ser creado como lo hemos hecho anteriormente con las listas:"
   ]
  },
  {
   "cell_type": "code",
   "execution_count": 40,
   "metadata": {},
   "outputs": [
    {
     "name": "stdout",
     "output_type": "stream",
     "text": [
      "[1, 2, 3, 4]\n"
     ]
    }
   ],
   "source": [
    "vector = [1, 2, 3, 4]\n",
    "\n",
    "print(vector)"
   ]
  },
  {
   "cell_type": "markdown",
   "metadata": {},
   "source": [
    " En general, los arreglos son de largo fijo y deben ser primero inicializados para reservar la memoria que estos utilizarán. Por ejemplo, si queremos crear un arreglo inicializado como 0:"
   ]
  },
  {
   "cell_type": "code",
   "execution_count": 13,
   "metadata": {},
   "outputs": [
    {
     "name": "stdout",
     "output_type": "stream",
     "text": [
      "[0, 0, 0, 0, 0]\n"
     ]
    }
   ],
   "source": [
    "n = 5  # Largo del vector\n",
    "arreglo = [0] * n\n",
    "\n",
    "print(arreglo)"
   ]
  },
  {
   "cell_type": "markdown",
   "metadata": {},
   "source": [
    "Podemos generarlo también usando comprensión de listas, en donde cada elemento de la lista será un valor entero incializado en 0."
   ]
  },
  {
   "cell_type": "code",
   "execution_count": 15,
   "metadata": {
    "scrolled": true
   },
   "outputs": [
    {
     "name": "stdout",
     "output_type": "stream",
     "text": [
      "[0, 0, 0, 0, 0]\n"
     ]
    }
   ],
   "source": [
    "arreglo = [0 for i in range(n)]\n",
    "\n",
    "print(arreglo)"
   ]
  },
  {
   "cell_type": "markdown",
   "metadata": {},
   "source": [
    "O también, inicializando cada elemento como tipo ```float```."
   ]
  },
  {
   "cell_type": "code",
   "execution_count": 17,
   "metadata": {},
   "outputs": [
    {
     "name": "stdout",
     "output_type": "stream",
     "text": [
      "[0.0, 0.0, 0.0, 0.0, 0.0]\n"
     ]
    }
   ],
   "source": [
    "# Al decalara 0.0 Python asume que el dato es de tipo float\n",
    "arreglo = [0.0 for i in range(n)]  \n",
    "\n",
    "print(arreglo)"
   ]
  },
  {
   "cell_type": "markdown",
   "metadata": {},
   "source": [
    "Para recorrer el arreglo y trabajar sobre cada uno de los elementos podemos iterar usando su índice:"
   ]
  },
  {
   "cell_type": "code",
   "execution_count": 20,
   "metadata": {
    "scrolled": true
   },
   "outputs": [
    {
     "name": "stdout",
     "output_type": "stream",
     "text": [
      "[0, 1, 2, 3, 4]\n"
     ]
    }
   ],
   "source": [
    "for i in range(n):\n",
    "    arreglo[i] = i\n",
    "    \n",
    "print(arreglo)"
   ]
  },
  {
   "cell_type": "markdown",
   "metadata": {},
   "source": [
    "## Arreglos Bidimensionales\n",
    "\n",
    "Un arreglo bidimensional es el análogo a una matriz. En esta caso, los arreglos tendrán un número de filas ```n``` y un número de columnas ```m```. Por ejemplo, podríamos representar una matriz o tabla de 3 x 3 usando una lista de listas del siguiente modo:"
   ]
  },
  {
   "cell_type": "code",
   "execution_count": 1,
   "metadata": {},
   "outputs": [
    {
     "name": "stdout",
     "output_type": "stream",
     "text": [
      "[[2, 3], [5, 6], [10, 1]]\n"
     ]
    }
   ],
   "source": [
    "matriz = [\n",
    "    [2, 3], # Primera fila\n",
    "    [5, 6],\n",
    "    [10, 1]\n",
    "]\n",
    "\n",
    "print(matriz)"
   ]
  },
  {
   "cell_type": "markdown",
   "metadata": {},
   "source": [
    "En este ejemplo, hemos creado una matriz con un número de filas ```n=3``` y un número de columnas ```m=2```. Vemos también que la variable ````matriz``` es una lista donde cada uno de sus elementos es una lista, donde cada uno de los elementos corresponden a un elemento ```i, j``` de la matriz o tabla. Podemos acceder a un elemento de esta matriz indicando las coordenas de la fila y la columna de elemento:"
   ]
  },
  {
   "cell_type": "code",
   "execution_count": 4,
   "metadata": {},
   "outputs": [
    {
     "data": {
      "text/plain": [
       "3"
      ]
     },
     "execution_count": 4,
     "metadata": {},
     "output_type": "execute_result"
    }
   ],
   "source": [
    "# Elemento (0,2)\n",
    "matriz[0][1]"
   ]
  },
  {
   "cell_type": "code",
   "execution_count": 5,
   "metadata": {},
   "outputs": [
    {
     "data": {
      "text/plain": [
       "[2, 3]"
      ]
     },
     "execution_count": 5,
     "metadata": {},
     "output_type": "execute_result"
    }
   ],
   "source": [
    "# Toda la primera fila\n",
    "matriz[0]"
   ]
  },
  {
   "cell_type": "markdown",
   "metadata": {},
   "source": [
    "También podemos recorrer la matriz iterando y acceder a cada uno de los elementos a través de un ciclo ```for```:"
   ]
  },
  {
   "cell_type": "code",
   "execution_count": 25,
   "metadata": {},
   "outputs": [
    {
     "name": "stdout",
     "output_type": "stream",
     "text": [
      "[[3, 4], [5, 6], [7, 8]]\n"
     ]
    }
   ],
   "source": [
    "n = len(matriz)  # obtenemos la cantidad de filas\n",
    "m = len(matriz[0])  # obtenenemos la cantidad de columnas\n",
    "\n",
    "for i in range(n):\n",
    "    for j in range(m):\n",
    "        matriz[i][j] = (2 * i) + (3 + j)\n",
    "\n",
    "print(matriz)"
   ]
  },
  {
   "cell_type": "markdown",
   "metadata": {},
   "source": [
    "También es práctico y recomendable inicializar los arreglos bidimensionales, pero su forma varía de los arreglos unidimensionales. A partir de la inicialización de un arreglo unidimensional podríamos hacer:"
   ]
  },
  {
   "cell_type": "code",
   "execution_count": 31,
   "metadata": {},
   "outputs": [],
   "source": [
    "n = 3  # 3 filas\n",
    "m = 4  # 4 columnas\n",
    "\n",
    "matriz = [[0] * m] * n"
   ]
  },
  {
   "cell_type": "code",
   "execution_count": 32,
   "metadata": {},
   "outputs": [
    {
     "name": "stdout",
     "output_type": "stream",
     "text": [
      "[[0, 0, 0, 0], [0, 0, 0, 0], [0, 0, 0, 0]]\n"
     ]
    }
   ],
   "source": [
    "print(matriz)"
   ]
  },
  {
   "cell_type": "code",
   "execution_count": 34,
   "metadata": {},
   "outputs": [
    {
     "name": "stdout",
     "output_type": "stream",
     "text": [
      "[[20, 0, 0, 0], [20, 0, 0, 0], [20, 0, 0, 0]]\n"
     ]
    }
   ],
   "source": [
    "matriz[0][0] = 20\n",
    "print(matriz)"
   ]
  },
  {
   "cell_type": "markdown",
   "metadata": {},
   "source": [
    "Incialmente todo parece funcionar bien. Sin embargo, si tratamos de modifiar uno de los elementos de la matriz notamos que también modificamos al resto de las filas. Esto ocurre porque en Python las variables son trabajadas como **referencia**. Luego, al hacer `[[0] * m] * n` estamos creando una lista `[0] * m]` que es repetida `n` veces. Para poder hacer esto de forma correcta, primero debemos crear una lista de `n` elementos y después genera una nueva lista independiente de `m` elementos. Por ejemplo:"
   ]
  },
  {
   "cell_type": "code",
   "execution_count": 35,
   "metadata": {},
   "outputs": [
    {
     "name": "stdout",
     "output_type": "stream",
     "text": [
      "[[0, 0, 0, 0], [0, 0, 0, 0], [0, 0, 0, 0]]\n"
     ]
    }
   ],
   "source": [
    "n = 3\n",
    "m = 4\n",
    "\n",
    "matriz = [0] * n\n",
    "for i in range(n):\n",
    "    matriz[i] = [0] * m\n",
    "\n",
    "print(matriz)"
   ]
  },
  {
   "cell_type": "code",
   "execution_count": 36,
   "metadata": {},
   "outputs": [
    {
     "name": "stdout",
     "output_type": "stream",
     "text": [
      "[[21, 0, 0, 0], [0, 0, 0, 0], [0, 0, 0, 0]]\n"
     ]
    }
   ],
   "source": [
    "matriz[0][0] = 21\n",
    "print(matriz)"
   ]
  },
  {
   "cell_type": "markdown",
   "metadata": {},
   "source": [
    "Vemos entonces que hemos creado un arreglo bidimensional donde todos sus elementos son independientes entre si. También podemos hacerlo en forma abreviada creando una lista por comprensión:"
   ]
  },
  {
   "cell_type": "code",
   "execution_count": 37,
   "metadata": {},
   "outputs": [
    {
     "name": "stdout",
     "output_type": "stream",
     "text": [
      "[[0, 0, 0, 0], [0, 0, 0, 0], [0, 0, 0, 0]]\n"
     ]
    }
   ],
   "source": [
    "matriz = [[0] * m for i in range(n)]\n",
    "\n",
    "print(matriz)"
   ]
  },
  {
   "cell_type": "markdown",
   "metadata": {},
   "source": [
    "Luego que ya tenemos creada la matriz podemos acceder y modificar cada uno de sus elementos:"
   ]
  },
  {
   "cell_type": "code",
   "execution_count": 38,
   "metadata": {},
   "outputs": [],
   "source": [
    "for i in range(n):\n",
    "    for j in range(m):\n",
    "        if i == j:\n",
    "            matriz[i][j] = 1"
   ]
  },
  {
   "cell_type": "code",
   "execution_count": 39,
   "metadata": {},
   "outputs": [
    {
     "name": "stdout",
     "output_type": "stream",
     "text": [
      "[[1, 0, 0, 0], [0, 1, 0, 0], [0, 0, 1, 0]]\n"
     ]
    }
   ],
   "source": [
    "print(matriz)"
   ]
  },
  {
   "cell_type": "code",
   "execution_count": null,
   "metadata": {},
   "outputs": [],
   "source": []
  }
 ],
 "metadata": {
  "kernelspec": {
   "display_name": "py37",
   "language": "python",
   "name": "py37"
  },
  "language_info": {
   "codemirror_mode": {
    "name": "ipython",
    "version": 3
   },
   "file_extension": ".py",
   "mimetype": "text/x-python",
   "name": "python",
   "nbconvert_exporter": "python",
   "pygments_lexer": "ipython3",
   "version": "3.7.3"
  }
 },
 "nbformat": 4,
 "nbformat_minor": 2
}
