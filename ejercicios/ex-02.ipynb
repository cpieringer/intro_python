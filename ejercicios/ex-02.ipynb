{
 "cells": [
  {
   "cell_type": "markdown",
   "metadata": {},
   "source": [
    "## Ejercicio 2\n",
    "\n",
    "Escriba un programa que reciba como entrada una secuencia de números enteros separados por un espacio, y retorne una lista con los números ordenados de menor a mayor de acuerdo con el siguiente caso de prueba\n",
    "\n",
    "```\n",
    "Ingrese los numeros: 7 4 20 19 15 1\n",
    "[1, 4, 7, 15, 19, 20]\n",
    "\n",
    "```\n",
    "\n",
    "\n",
    "El programa debe funcionar para una cantidad arbitraria de números. Existe más de una manera de resolver este problema."
   ]
  },
  {
   "cell_type": "code",
   "execution_count": 1,
   "metadata": {},
   "outputs": [
    {
     "name": "stdout",
     "output_type": "stream",
     "text": [
      "Ingrese los numeros: 7 4 20 19 15 1\n",
      "<class 'list'> [7, 4, 20, 19, 15, 1]\n"
     ]
    }
   ],
   "source": [
    "# Ingreso de numeros\n",
    "nstr = input('Ingrese los numeros: ')\n",
    "numeros = list(map(int, nstr.strip().split()))\n",
    "\n",
    "print(type(numeros), numeros)"
   ]
  },
  {
   "cell_type": "code",
   "execution_count": 2,
   "metadata": {
    "scrolled": true
   },
   "outputs": [
    {
     "name": "stdout",
     "output_type": "stream",
     "text": [
      "1 4 7 15 19 20 "
     ]
    }
   ],
   "source": [
    "# Rutina de ordenamiento. Implementa el algoritmo Bubble Sort.\n",
    "# Recorre toda la lista \n",
    "\n",
    "for i in range(len(numeros)-1, 0, -1):\n",
    "    for j in range(i):\n",
    "        if numeros[j] > numeros[j+1]:\n",
    "            temp = numeros[j]\n",
    "            numeros[j] = numeros[j+1]\n",
    "            numeros[j+1] = temp\n",
    "\n",
    "for n in numeros:\n",
    "    print(n, end=' ')"
   ]
  }
 ],
 "metadata": {
  "kernelspec": {
   "display_name": "py37",
   "language": "python",
   "name": "py37"
  },
  "language_info": {
   "codemirror_mode": {
    "name": "ipython",
    "version": 3
   },
   "file_extension": ".py",
   "mimetype": "text/x-python",
   "name": "python",
   "nbconvert_exporter": "python",
   "pygments_lexer": "ipython3",
   "version": "3.7.3"
  }
 },
 "nbformat": 4,
 "nbformat_minor": 2
}
