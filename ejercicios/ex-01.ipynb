{
 "cells": [
  {
   "cell_type": "markdown",
   "metadata": {},
   "source": [
    "## Ejercicio 1\n",
    "\n",
    "\n",
    "Escriba un programa pregunte por el radio de un círculo en centímetros y calcule su perímetro y su área. Considere desplegar los resultados usando tres decimales según el siguiente caso de prueba.\n",
    "\n",
    "```\n",
    "Ingrese radio [cm]: 3\n",
    "Perimetro: 18.850 cm\n",
    "Area: 28.274 cm2\n",
    "```"
   ]
  },
  {
   "cell_type": "code",
   "execution_count": 1,
   "metadata": {},
   "outputs": [
    {
     "name": "stdout",
     "output_type": "stream",
     "text": [
      "Ingrese radio [cm]: 3\n",
      "Perimetro: 18.850 [cm]\n",
      "Area: 28.274 [cm2]\n"
     ]
    }
   ],
   "source": [
    "from math import pi\n",
    "\n",
    "radio = float(input('Ingrese radio [cm]: '))\n",
    "\n",
    "perimetro = 2 * pi * radio\n",
    "area = pi * (radio ** 2)\n",
    "\n",
    "print('Perimetro: {:.3f} [cm]'.format(perimetro))\n",
    "print('Area: {:.3f} [cm2]'.format(area))"
   ]
  },
  {
   "cell_type": "code",
   "execution_count": 2,
   "metadata": {},
   "outputs": [
    {
     "name": "stdout",
     "output_type": "stream",
     "text": [
      "Ingrese radio [cm]: 3\n",
      "Perimetro: 18.849 [cm2]\n",
      "Area: 28.274 [cm2]\n"
     ]
    }
   ],
   "source": [
    "# Otra alternativa es definiendo la constante PI sin importarla desde la librería.\n",
    "pi = 3.1415\n",
    "\n",
    "radio = float(input('Ingrese radio [cm]: '))\n",
    "\n",
    "perimetro = 2 * pi * radio\n",
    "area = pi * (radio ** 2)\n",
    "\n",
    "print('Perimetro: {:.3f} [cm2]'.format(perimetro))\n",
    "print('Area: {:.3f} [cm2]'.format(area))"
   ]
  }
 ],
 "metadata": {
  "kernelspec": {
   "display_name": "py37",
   "language": "python",
   "name": "py37"
  },
  "language_info": {
   "codemirror_mode": {
    "name": "ipython",
    "version": 3
   },
   "file_extension": ".py",
   "mimetype": "text/x-python",
   "name": "python",
   "nbconvert_exporter": "python",
   "pygments_lexer": "ipython3",
   "version": "3.7.3"
  }
 },
 "nbformat": 4,
 "nbformat_minor": 2
}
