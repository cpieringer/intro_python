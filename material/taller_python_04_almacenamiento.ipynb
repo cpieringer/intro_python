{
 "cells": [
  {
   "cell_type": "markdown",
   "metadata": {},
   "source": [
    "# Taller de Programación en Python"
   ]
  },
  {
   "cell_type": "markdown",
   "metadata": {},
   "source": [
    "## Procesamiento de Texto"
   ]
  },
  {
   "cell_type": "code",
   "execution_count": 1,
   "metadata": {},
   "outputs": [
    {
     "name": "stdout",
     "output_type": "stream",
     "text": [
      "Las palabras\n",
      "se escriben juntas\n",
      "pero en realidad hay un\n",
      "salto\n"
     ]
    }
   ],
   "source": [
    "print('Las palabras\\nse escriben juntas\\npero en realidad hay un\\nsalto')"
   ]
  },
  {
   "cell_type": "code",
   "execution_count": 4,
   "metadata": {},
   "outputs": [],
   "source": [
    "s = \"Es es                            un texto menos largo\""
   ]
  },
  {
   "cell_type": "code",
   "execution_count": 8,
   "metadata": {},
   "outputs": [
    {
     "data": {
      "text/plain": [
       "['Es', 'es', 'un', 'texto', 'menos', 'largo']"
      ]
     },
     "execution_count": 8,
     "metadata": {},
     "output_type": "execute_result"
    }
   ],
   "source": [
    "# División de texto según separador\n",
    "s.split()"
   ]
  },
  {
   "cell_type": "code",
   "execution_count": 9,
   "metadata": {},
   "outputs": [
    {
     "data": {
      "text/plain": [
       "'Es as                            un taxto manos largo'"
      ]
     },
     "execution_count": 9,
     "metadata": {},
     "output_type": "execute_result"
    }
   ],
   "source": [
    "s.replace('e', 'a')"
   ]
  },
  {
   "cell_type": "code",
   "execution_count": 15,
   "metadata": {},
   "outputs": [
    {
     "data": {
      "text/plain": [
       "'0,1,2,3,4,5,6,7,8,9'"
      ]
     },
     "execution_count": 15,
     "metadata": {},
     "output_type": "execute_result"
    }
   ],
   "source": [
    "','.join(map(str, range(10)))"
   ]
  },
  {
   "cell_type": "code",
   "execution_count": 16,
   "metadata": {
    "scrolled": true
   },
   "outputs": [
    {
     "name": "stdout",
     "output_type": "stream",
     "text": [
      "Ingrese numeros: 10 45 5\n",
      "10 45 5\n",
      "<class 'int'> <class 'int'> <class 'int'>\n"
     ]
    }
   ],
   "source": [
    "entrada = input('Ingrese numeros: ')\n",
    "a, b, c = map(int, entrada.split())\n",
    "print(a, b, c)\n",
    "print(type(a), type(b), type(c))"
   ]
  },
  {
   "cell_type": "code",
   "execution_count": 17,
   "metadata": {},
   "outputs": [
    {
     "data": {
      "text/plain": [
       "'ES ES                            UN TEXTO MENOS LARGO'"
      ]
     },
     "execution_count": 17,
     "metadata": {},
     "output_type": "execute_result"
    }
   ],
   "source": [
    "s.upper()"
   ]
  },
  {
   "cell_type": "code",
   "execution_count": 18,
   "metadata": {},
   "outputs": [
    {
     "data": {
      "text/plain": [
       "'es es                            un texto menos largo'"
      ]
     },
     "execution_count": 18,
     "metadata": {},
     "output_type": "execute_result"
    }
   ],
   "source": [
    "s.lower()"
   ]
  },
  {
   "cell_type": "code",
   "execution_count": 19,
   "metadata": {},
   "outputs": [
    {
     "data": {
      "text/plain": [
       "True"
      ]
     },
     "execution_count": 19,
     "metadata": {},
     "output_type": "execute_result"
    }
   ],
   "source": [
    "s.startswith('Es')"
   ]
  },
  {
   "cell_type": "code",
   "execution_count": 20,
   "metadata": {},
   "outputs": [
    {
     "data": {
      "text/plain": [
       "False"
      ]
     },
     "execution_count": 20,
     "metadata": {},
     "output_type": "execute_result"
    }
   ],
   "source": [
    "s.endswith('texto')"
   ]
  },
  {
   "cell_type": "code",
   "execution_count": 21,
   "metadata": {},
   "outputs": [
    {
     "name": "stdout",
     "output_type": "stream",
     "text": [
      "Esta es una plantilla texto ingresar un mensaje\n"
     ]
    }
   ],
   "source": [
    "template = 'Esta es una plantilla {0} ingresar un {1}'\n",
    "print(template.format('texto', 'mensaje'))"
   ]
  },
  {
   "cell_type": "markdown",
   "metadata": {},
   "source": [
    "## Manejo de Archivos\n",
    "\n",
    "Los archivos que veremos en este taller son de texto. Generalmente estos archivos tienen la extensión ```.txt```, pero podría ser cualquiera. Como por ejemplo, archivos que tienen extensión ```.csv``` realmente son archivos de texto de tipo tabular.\n",
    "\n",
    "Para abrir un archivo usamos la función ```open(<ruta y nombre del archivo>)```."
   ]
  },
  {
   "cell_type": "code",
   "execution_count": 22,
   "metadata": {},
   "outputs": [
    {
     "name": "stdout",
     "output_type": "stream",
     "text": [
      "En un lugar de La Mancha\n",
      "\n",
      "de cuyo nombre no quiero acordarme\n",
      "\n",
      "no ha mucho tiempo que vivia un hidalgo\n",
      "\n",
      "de los de lanza en astillero\n",
      "\n",
      "adarga antigua, rocin flaco y galgo corredor.\n",
      "\n"
     ]
    }
   ],
   "source": [
    "archivo = open('quijote.txt')\n",
    "\n",
    "for linea in archivo:\n",
    "    print(linea)\n",
    "\n",
    "archivo.close()"
   ]
  },
  {
   "cell_type": "markdown",
   "metadata": {},
   "source": [
    "La variable ```archivo``` es un archivo que representa el contenido del archivo real en el disco. Vemos que las líneas quedan separadas por un espacio adicional. Eso ocurre porque relamente el archivo es una sola cadena de caracteres donde las líneas están separadas por un caracters especial llamado salto de línea ```\\n```. Este caracter **no** es visible al desplegar el texto de cada línea"
   ]
  },
  {
   "cell_type": "markdown",
   "metadata": {},
   "source": [
    "El método `strip()` de los tipos de dato ```string``` permite eliminar los espacios y caracteres especiales al final de cada secuencia de texto. Debemos tener presente que una vez que recorremos un archivo, no podremos volver a leerlo. Es necesario, cerrarlo y abrirlo nuevamente. Además, Vemos el efecto a continuación:"
   ]
  },
  {
   "cell_type": "code",
   "execution_count": 23,
   "metadata": {},
   "outputs": [
    {
     "name": "stdout",
     "output_type": "stream",
     "text": [
      "En un lugar de La Mancha\n",
      "de cuyo nombre no quiero acordarme\n",
      "no ha mucho tiempo que vivia un hidalgo\n",
      "de los de lanza en astillero\n",
      "adarga antigua, rocin flaco y galgo corredor.\n"
     ]
    }
   ],
   "source": [
    "archivo = open('quijote.txt')\n",
    "\n",
    "for linea in archivo:\n",
    "    print(linea.strip())\n",
    "    \n",
    "archivo.close()"
   ]
  },
  {
   "cell_type": "markdown",
   "metadata": {},
   "source": [
    "Por defecto la función ```open()``` abre los archivos en modo lectura. Pero, también existen otros modos. Para crear un nuevo archivo abrimos usando el modo ```w```."
   ]
  },
  {
   "cell_type": "code",
   "execution_count": 24,
   "metadata": {},
   "outputs": [],
   "source": [
    "archivo = open('quijote.txt', 'w')\n",
    "archivo.write('En un lugar de La Mancha\\n')\n",
    "archivo.write('de cuyo nombre ')\n",
    "archivo.write('no quiero acordarme\\n')\n",
    "archivo.write('no ha mucho tiempo ')\n",
    "archivo.write('que vivia un hidalgo\\n')\n",
    "archivo.close()"
   ]
  },
  {
   "cell_type": "markdown",
   "metadata": {},
   "source": [
    "Cuando abrimos un archivo en modo ```w``` borramos todo el contenido de un archivo si ya existe."
   ]
  },
  {
   "cell_type": "markdown",
   "metadata": {},
   "source": [
    "Agregamos más contenido al archivo:"
   ]
  },
  {
   "cell_type": "code",
   "execution_count": 25,
   "metadata": {},
   "outputs": [],
   "source": [
    "archivo = open('quijote.txt', 'a')\n",
    "archivo.write('de los de lanza en astillero\\n')\n",
    "archivo.write('adarga antigua, rocin flaco ')\n",
    "archivo.write('y galgo corredor.\\n')\n",
    "archivo.close()"
   ]
  },
  {
   "cell_type": "code",
   "execution_count": 26,
   "metadata": {},
   "outputs": [
    {
     "name": "stdout",
     "output_type": "stream",
     "text": [
      "En un lugar de La Mancha\n",
      "de cuyo nombre no quiero acordarme\n",
      "no ha mucho tiempo que vivia un hidalgo\n",
      "de los de lanza en astillero\n",
      "adarga antigua, rocin flaco y galgo corredor.\n"
     ]
    }
   ],
   "source": [
    "with open('quijote.txt') as archivo:\n",
    "    for linea in archivo:\n",
    "        print(linea.strip())"
   ]
  },
  {
   "cell_type": "markdown",
   "metadata": {},
   "source": [
    "### Lectura de archivo CSV"
   ]
  },
  {
   "cell_type": "code",
   "execution_count": 27,
   "metadata": {},
   "outputs": [
    {
     "name": "stdout",
     "output_type": "stream",
     "text": [
      "['Manuel', 'Heyers', '4.9', '5.8', '3.2']\n",
      "['Felipe', 'Canaves', '6.8', '4.4', '5.9']\n",
      "['Nicolas', 'Perez', '2.3', '3.4', '3.1']\n",
      "['Sebastian', 'Retamal', '4.8', '3.8', '6.3']\n",
      "['Han', 'Solo', '2.4', '3.4', '3.0']\n",
      "['Leia', 'Organa', '7.0', '6.0', '4.2']\n"
     ]
    }
   ],
   "source": [
    "with open('alumnos.csv') as archivo:\n",
    "    for linea in archivo:\n",
    "        print(linea.strip().split(':'))"
   ]
  },
  {
   "cell_type": "markdown",
   "metadata": {},
   "source": [
    "La lectura de números en archivos de texto es siempre como string. Es necesario transformar los caracteres a números para poder trabajar con ellos."
   ]
  },
  {
   "cell_type": "code",
   "execution_count": 28,
   "metadata": {},
   "outputs": [
    {
     "name": "stdout",
     "output_type": "stream",
     "text": [
      "Las notas de Manuel son: [4.9, 5.8, 3.2]\n",
      "Las notas de Felipe son: [6.8, 4.4, 5.9]\n",
      "Las notas de Nicolas son: [2.3, 3.4, 3.1]\n",
      "Las notas de Sebastian son: [4.8, 3.8, 6.3]\n",
      "Las notas de Han son: [2.4, 3.4, 3.0]\n",
      "Las notas de Leia son: [7.0, 6.0, 4.2]\n"
     ]
    }
   ],
   "source": [
    "with open('alumnos.csv') as archivo:\n",
    "    for linea in archivo:\n",
    "        valores = linea.strip().split(':')\n",
    "        nombres = valores[0:2]\n",
    "        notas = list(map(float, valores[2:5]))\n",
    "        print('Las notas de {} son: {}'.format(nombres[0], notas))"
   ]
  },
  {
   "cell_type": "markdown",
   "metadata": {},
   "source": [
    "Podemo componer líneas con separador utilizando el método ```.join()``` del tipo de dato ```string```."
   ]
  },
  {
   "cell_type": "code",
   "execution_count": 29,
   "metadata": {},
   "outputs": [],
   "source": [
    "notas = [3.4, 5.7, 3.8]\n",
    "linea = ':'.join(map(str, notas)) + '\\n'"
   ]
  },
  {
   "cell_type": "code",
   "execution_count": 30,
   "metadata": {},
   "outputs": [
    {
     "data": {
      "text/plain": [
       "'3.4:5.7:3.8\\n'"
      ]
     },
     "execution_count": 30,
     "metadata": {},
     "output_type": "execute_result"
    }
   ],
   "source": [
    "linea"
   ]
  },
  {
   "cell_type": "code",
   "execution_count": null,
   "metadata": {},
   "outputs": [],
   "source": []
  }
 ],
 "metadata": {
  "kernelspec": {
   "display_name": "py37",
   "language": "python",
   "name": "py37"
  },
  "language_info": {
   "codemirror_mode": {
    "name": "ipython",
    "version": 3
   },
   "file_extension": ".py",
   "mimetype": "text/x-python",
   "name": "python",
   "nbconvert_exporter": "python",
   "pygments_lexer": "ipython3",
   "version": "3.7.3"
  }
 },
 "nbformat": 4,
 "nbformat_minor": 2
}
